{
  "nbformat": 4,
  "nbformat_minor": 0,
  "metadata": {
    "colab": {
      "name": "LogisticRegression.ipynb",
      "provenance": [],
      "collapsed_sections": [],
      "authorship_tag": "ABX9TyOJGZznjUKm8A5w4ndE2Uwf",
      "include_colab_link": true
    },
    "kernelspec": {
      "name": "python3",
      "display_name": "Python 3"
    },
    "language_info": {
      "name": "python"
    }
  },
  "cells": [
    {
      "cell_type": "markdown",
      "metadata": {
        "id": "view-in-github",
        "colab_type": "text"
      },
      "source": [
        "<a href=\"https://colab.research.google.com/github/AntonThai2022/ML/blob/main/LogisticRegression.ipynb\" target=\"_parent\"><img src=\"https://colab.research.google.com/assets/colab-badge.svg\" alt=\"Open In Colab\"/></a>"
      ]
    },
    {
      "cell_type": "code",
      "source": [
        "import numpy as np\n",
        "import math\n",
        "import tensorflow as tf\n",
        "from matplotlib import pyplot as plt"
      ],
      "metadata": {
        "id": "3OOO3vFjs2Va"
      },
      "execution_count": null,
      "outputs": []
    },
    {
      "cell_type": "markdown",
      "source": [
        "Создаём по 100 точек для бинарной классификации (кол-во точек можно менять)"
      ],
      "metadata": {
        "id": "qSyDu0Imr2P-"
      }
    },
    {
      "cell_type": "code",
      "source": [
        "N = 200\n",
        "x_zeros = np.random.multivariate_normal(mean=np.array((-1,-1)), cov=.1*np.eye(2), size=(int(N/2),))\n",
        "y_zeros = np.zeros((int(N/2),))\n",
        "x_ones = np.random.multivariate_normal(mean=np.array((1,1)), cov=.1*np.eye(2), size=(int(N/2),))\n",
        "y_ones = np.ones((int(N/2), ))\n",
        "x_np = np.vstack([x_zeros, x_ones])\n",
        "y_np = np.concatenate([y_zeros, y_ones])"
      ],
      "metadata": {
        "id": "X1P_YPJzMg5N"
      },
      "execution_count": null,
      "outputs": []
    },
    {
      "cell_type": "markdown",
      "source": [
        "Визуализируем точки"
      ],
      "metadata": {
        "id": "-2j_P7r2x8mX"
      }
    },
    {
      "cell_type": "code",
      "execution_count": null,
      "metadata": {
        "colab": {
          "base_uri": "https://localhost:8080/",
          "height": 281
        },
        "id": "KZKKgYQ0rPhU",
        "outputId": "9825f709-8819-4c1d-9914-bcd2e4b135c2"
      },
      "outputs": [
        {
          "output_type": "display_data",
          "data": {
            "text/plain": [
              "<Figure size 432x288 with 1 Axes>"
            ],
            "image/png": "[encoded data removed]"
          },
          "metadata": {
            "needs_background": "light"
          }
        }
      ],
      "source": [
        "#Визуализируем по оси все первые координаты каждой точки, а по другой оси все вторые координаты каждой точки \n",
        "plt.scatter(x_np[:,0], x_np[:,1])\n",
        "plt.title(\"Sample visualization\")\n",
        "plt.show()"
      ]
    },
    {
      "cell_type": "markdown",
      "source": [
        "Определяем модель логистической регрессии"
      ],
      "metadata": {
        "id": "w3MJ5JK2IKMw"
      }
    },
    {
      "cell_type": "code",
      "source": [
        "tf.compat.v1.disable_eager_execution() \n",
        "with tf.name_scope(\"placaholders\"):\n",
        "  x = tf.compat.v1.placeholder(tf.float32, (N,2))\n",
        "  y = tf.compat.v1.placeholder(tf.float32, (N,))\n",
        "with tf.name_scope(\"weights\"):\n",
        "  W = tf.compat.v1.Variable(tf.compat.v1.random_normal((2,1)))\n",
        "  b = tf.compat.v1.Variable(tf.compat.v1.random_normal((1,)))\n",
        "with tf.name_scope(\"prediction\"):\n",
        "  y_logit = tf.compat.v1.squeeze(tf.compat.v1.matmul(x,W) + b)\n",
        "  y_one_prob = tf.compat.v1.sigmoid(y_logit)\n",
        "  y_pred = tf.round(y_one_prob)\n",
        "\n",
        "with tf.name_scope(\"loss\"):\n",
        "  entropy = tf.nn.sigmoid_cross_entropy_with_logits(logits=y_logit, labels=y)\n",
        "  l = tf.reduce_sum(entropy)\n",
        "with tf.name_scope(\"optim\"):\n",
        "  train_op = tf.compat.v1.train.AdamOptimizer(.01).minimize(l)"
      ],
      "metadata": {
        "id": "D-Rhi0wHH_J7"
      },
      "execution_count": null,
      "outputs": []
    },
    {
      "cell_type": "markdown",
      "source": [
        "Тренировка ллогистической регрессии"
      ],
      "metadata": {
        "id": "Yu68TynRQAdp"
      }
    },
    {
      "cell_type": "code",
      "source": [
        "n_steps = 1000\n",
        "with tf.compat.v1.Session() as sess:\n",
        "  sess.run(tf.compat.v1.global_variables_initializer())\n",
        "  for i in range(n_steps):\n",
        "    summary, loss = sess.run([train_op, l], feed_dict={x: x_np, y: y_np})\n",
        "    if(i % 100 == 0):\n",
        "      print(\"потеря: %f\" % loss) \n",
        "  W_value = W.eval() \n",
        "  b_value = b.eval()  "
      ],
      "metadata": {
        "id": "pA6EsPE6QGMp",
        "colab": {
          "base_uri": "https://localhost:8080/"
        },
        "outputId": "aaf4d3d0-a8ef-4ddc-ccb9-00ac14cf0392"
      },
      "execution_count": null,
      "outputs": [
        {
          "output_type": "stream",
          "name": "stdout",
          "text": [
            "потеря: 126.711388\n",
            "потеря: 28.816486\n",
            "потеря: 12.277152\n",
            "потеря: 7.247461\n",
            "потеря: 4.986942\n",
            "потеря: 3.738020\n",
            "потеря: 2.955667\n",
            "потеря: 2.422764\n",
            "потеря: 2.037611\n",
            "потеря: 1.746794\n"
          ]
        }
      ]
    },
    {
      "cell_type": "markdown",
      "source": [
        "Визуализируем разделяющую линию, "
      ],
      "metadata": {
        "id": "Ke2MTfsNVqaz"
      }
    },
    {
      "cell_type": "code",
      "source": [
        "#Получаем значения весов в виде обычного списка\n",
        "W_val = np.reshape(W_value, (1,2))[0]\n",
        "#И смещение\n",
        "b_val = b_value[0]\n",
        "#Определяем сигмоиду\n",
        "def sigmoid(x):\n",
        "  return 1 / (1 + math.exp(-x))\n",
        "\n",
        "#Теперь перебирам кучу точек из интереующеей области, и те из них, на которых регрессия выдаёт результат\n",
        "#близкий к 0.5 будут являться толчками линии, которая и разделяет наши классы\n",
        "x1, x2 = [], []\n",
        "for x1_test in np.linspace(-1.5,1.5, 100):\n",
        "  for x2_test in np.linspace(-1.5,1.5, 100):\n",
        "    #попробуй ради интереса поменяй местами индексы у весов\n",
        "    z = sigmoid(x1_test*W_val[0] + x2_test*W_val[1] + b_val)\n",
        "    if abs(z - 0.5) < 0.01:\n",
        "      x1.append(x1_test)\n",
        "      x2.append(x2_test)"
      ],
      "metadata": {
        "id": "7AAlilBgNcVA"
      },
      "execution_count": null,
      "outputs": []
    },
    {
      "cell_type": "code",
      "source": [
        "#Теперь делаем из наших списков numpy массивы и отрисовываем линию\n",
        "plt.scatter(x_np[:,0], x_np[:,1]) #точки данных\n",
        "plt.scatter(x1, x2) #теоретические точки, где регрессия уже может ошибиться, то есть линия, разделяющая данные\n",
        "plt.title(\"Logistic regression\")\n",
        "plt.show()"
      ],
      "metadata": {
        "colab": {
          "base_uri": "https://localhost:8080/",
          "height": 281
        },
        "id": "7CwGIq7PR0WB",
        "outputId": "9a4bcad0-d644-4f14-9d9d-16ad058a56d9"
      },
      "execution_count": null,
      "outputs": [
        {
          "output_type": "display_data",
          "data": {
            "text/plain": [
              "<Figure size 432x288 with 1 Axes>"
            ],
            "image/png": "[encoded data removed]"
          },
          "metadata": {
            "needs_background": "light"
          }
        }
      ]
    }
  ]
}