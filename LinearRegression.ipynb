{
  "nbformat": 4,
  "nbformat_minor": 0,
  "metadata": {
    "colab": {
      "name": "LinearRegression.ipynb",
      "provenance": [],
      "collapsed_sections": [],
      "authorship_tag": "ABX9TyPIYZR2dYWx6EXm4NEkAWn5",
      "include_colab_link": true
    },
    "kernelspec": {
      "name": "python3",
      "display_name": "Python 3"
    },
    "language_info": {
      "name": "python"
    }
  },
  "cells": [
    {
      "cell_type": "markdown",
      "metadata": {
        "id": "view-in-github",
        "colab_type": "text"
      },
      "source": [
        "<a href=\"https://colab.research.google.com/github/AntonThai2022/AntonThai2022/blob/main/LinearRegression.ipynb\" target=\"_parent\"><img src=\"https://colab.research.google.com/assets/colab-badge.svg\" alt=\"Open In Colab\"/></a>"
      ]
    },
    {
      "cell_type": "code",
      "source": [
        "import numpy as np\n",
        "from matplotlib import pyplot as plt\n",
        "import tensorflow as tf"
      ],
      "metadata": {
        "id": "6NUmJqCPdX3X"
      },
      "execution_count": null,
      "outputs": []
    },
    {
      "cell_type": "markdown",
      "source": [
        "Создаём 100 точек"
      ],
      "metadata": {
        "id": "Ugtm4tO8lJH9"
      }
    },
    {
      "cell_type": "code",
      "execution_count": null,
      "metadata": {
        "id": "VN1m-hCKc4zU"
      },
      "outputs": [],
      "source": [
        "N = 100\n",
        "w_true = 5\n",
        "b_true = 2\n",
        "noise_scale = .1\n",
        "x_np = np.random.rand(N,1)\n",
        "noise = np.random.normal(scale=noise_scale, size=(N,1))\n",
        "#Конвертировать форму y_np в (N, )\n",
        "y_np = np.reshape(w_true * x_np + b_true + noise, (-1))"
      ]
    },
    {
      "cell_type": "markdown",
      "source": [
        "Визуализируем наши точки"
      ],
      "metadata": {
        "id": "aAgIBSgYlQh0"
      }
    },
    {
      "cell_type": "code",
      "source": [
        "plt.plot(x_np, y_np, '*')\n",
        "plt.title(\"Sample Visualization\")\n",
        "plt.show()"
      ],
      "metadata": {
        "colab": {
          "base_uri": "https://localhost:8080/",
          "height": 281
        },
        "id": "mSWsrfCah2vl",
        "outputId": "4e8c38fc-1369-467f-94ee-defe2c9b055e"
      },
      "execution_count": null,
      "outputs": [
        {
          "output_type": "display_data",
          "data": {
            "text/plain": [
              "<Figure size 432x288 with 1 Axes>"
            ],
            "image/png": "[encoded data removed]"
          },
          "metadata": {
            "needs_background": "light"
          }
        }
      ]
    },
    {
      "cell_type": "markdown",
      "source": [
        "Определение модели линейной регрессии"
      ],
      "metadata": {
        "id": "c1LYwFcqk9wL"
      }
    },
    {
      "cell_type": "code",
      "source": [
        "with tf.name_scope(\"placaholders\"):\n",
        "  tf.compat.v1.disable_eager_execution()\n",
        "  x = tf.compat.v1.placeholder(tf.float32, (N,1))\n",
        "  y = tf.compat.v1.placeholder(tf.float32, (N,))  \n",
        "with tf.name_scope(\"weights\"):\n",
        "  W = tf.Variable(tf.compat.v1.random_normal((1,1)))\n",
        "  b = tf.Variable(tf.compat.v1.random_normal((1,)))\n",
        "with tf.name_scope(\"prediction\"):\n",
        "  y_pred = tf.compat.v1.matmul(x, W) + b\n",
        "with tf.name_scope(\"loss\"):\n",
        "  l = tf.compat.v1.reduce_sum((y - y_pred)**2)\n",
        "with tf.name_scope(\"optim\"):\n",
        "  train_op = tf.compat.v1.train.AdamOptimizer(.001).minimize(l)\n",
        "with tf.compat.v1.name_scope(\"summaries\"):\n",
        "  tf.summary.scalar(\"loss\", l)\n",
        "  merged = tf.compat.v1.summary.merge_all()"
      ],
      "metadata": {
        "id": "ITx9ULlHlvLp"
      },
      "execution_count": null,
      "outputs": []
    },
    {
      "cell_type": "markdown",
      "source": [
        "Тренировка модели линейной регрессии"
      ],
      "metadata": {
        "id": "brjLdwsqxf9z"
      }
    },
    {
      "cell_type": "code",
      "source": [
        "n_steps = 1000\n",
        "with tf.compat.v1.Session() as sess:\n",
        "  sess.run(tf.compat.v1.global_variables_initializer())\n",
        "  for i in range(n_steps):\n",
        "    summary, loss = sess.run([train_op, l], feed_dict = {x: x_np, y:y_np})\n",
        "    if(i % 100 == 0):\n",
        "      print(\"шаг %d, потеря: %f\" % (i, loss))"
      ],
      "metadata": {
        "colab": {
          "base_uri": "https://localhost:8080/"
        },
        "id": "JpT2IjKVxgls",
        "outputId": "2ac91692-91be-4f77-8e30-75a9dd168ac3"
      },
      "execution_count": null,
      "outputs": [
        {
          "output_type": "stream",
          "name": "stdout",
          "text": [
            "шаг 0, потеря: 294125.375000\n",
            "шаг 100, потеря: 278499.812500\n",
            "шаг 200, потеря: 263570.031250\n",
            "шаг 300, потеря: 249318.062500\n",
            "шаг 400, потеря: 235720.078125\n",
            "шаг 500, потеря: 222753.187500\n",
            "шаг 600, потеря: 210395.406250\n",
            "шаг 700, потеря: 198625.750000\n",
            "шаг 800, потеря: 187423.953125\n",
            "шаг 900, потеря: 176770.531250\n"
          ]
        }
      ]
    }
  ]
}